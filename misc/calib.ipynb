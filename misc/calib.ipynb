{
 "cells": [
  {
   "cell_type": "code",
   "execution_count": 1,
   "metadata": {},
   "outputs": [],
   "source": [
    "import numpy as np\n",
    "import cv2 as cv\n",
    "import sys\n",
    "import getopt\n",
    "import glob\n",
    "from multiprocessing.dummy import Pool as ThreadPool\n",
    "from common import splitfn\n",
    "import os\n",
    "\n",
    "# global settings\n",
    "square_size = 35.15\n",
    "threads_num = 8\n",
    "subpix_windows_size = (5, 5)\n",
    "pattern_size = (6, 9)\n",
    "\n",
    "term = (cv.TERM_CRITERIA_EPS + cv.TERM_CRITERIA_COUNT, 1000, 1e-6)\n",
    "\n",
    "dataset_dir = './mav_datasets/calibration_frontcam/img/'\n",
    "img_dir = './mav_datasets/calibration_frontcam/img_selected_0/'\n",
    "debug_dir = './mav_datasets/calibration_frontcam/debug/'\n",
    "undistort_dir = './mav_datasets/calibration_frontcam/undistort/'\n"
   ]
  },
  {
   "cell_type": "code",
   "execution_count": 2,
   "metadata": {},
   "outputs": [],
   "source": [
    "# Arrays to store object points and image points from all the images.\n",
    "\n",
    "obj_points = []\n",
    "img_points = []\n",
    "images = glob.glob(img_dir + '*.jpg')\n",
    "os.system('rm -rf ' + debug_dir)\n",
    "os.system('mkdir ' + debug_dir)\n",
    "\n",
    "# prepare object points, like (0,0,0), (1,0,0), (2,0,0) ....,(6,5,0) * square_size\n",
    "pattern_points = np.zeros((np.prod(pattern_size), 3), np.float32)\n",
    "pattern_points[:, :2] = np.indices(pattern_size).T.reshape(-1, 2)\n",
    "pattern_points *= square_size\n",
    "\n",
    "# find chessboard function\n",
    "def processImg(fn):\n",
    "    img = cv.imread(fn, cv.IMREAD_GRAYSCALE)\n",
    "    found, corners = cv.findChessboardCorners(img, pattern_size)\n",
    "    if found:\n",
    "        corners_subpix = cv.cornerSubPix(img, corners, subpix_windows_size, (-1, -1), term)\n",
    "\n",
    "        if debug_dir:\n",
    "            vis = cv.cvtColor(img, cv.COLOR_GRAY2BGR)\n",
    "            cv.drawChessboardCorners(vis, pattern_size, corners_subpix, found)\n",
    "            _path, name, _ext = splitfn(fn)\n",
    "            outfile = os.path.join(debug_dir, name + '.jpg')\n",
    "            cv.imwrite(outfile, vis)\n",
    "\n",
    "        return (corners_subpix.reshape(-1, 2), pattern_points)\n",
    "        \n",
    "    if not found:\n",
    "        return None\n",
    "\n",
    "if threads_num <= 1:\n",
    "    chessboards = [processImg(fn) for fn in images]\n",
    "else:\n",
    "    pool = ThreadPool(threads_num)\n",
    "    chessboards = pool.map(processImg, images)\n",
    "\n",
    "detected = [x for x in chessboards if x is not None]\n",
    "for (corners, pattern_points) in detected:\n",
    "    img_points.append(corners)\n",
    "    obj_points.append(pattern_points)"
   ]
  },
  {
   "cell_type": "code",
   "execution_count": 3,
   "metadata": {},
   "outputs": [
    {
     "name": "stdout",
     "output_type": "stream",
     "text": [
      "calibrating, will take a long time if there are too many points\n",
      "\n",
      "RMS: 0.2855858011133064\n",
      "camera matrix:\n",
      " [[323.30439544   0.         264.1811044 ]\n",
      " [  0.         323.73762591 213.45702275]\n",
      " [  0.           0.           1.        ]]\n",
      "distortion coefficients:  [-3.42172094e-01  1.42618962e-01  6.17475602e-05  1.79552857e-04\n",
      " -3.15633611e-02]\n"
     ]
    }
   ],
   "source": [
    "# calculate camera distortion with all available images\n",
    "print(\"calibrating, will take a long time if there are too many points\")\n",
    "h, w = cv.imread(images[0], cv.IMREAD_GRAYSCALE).shape[:2]\n",
    "rms, camera_matrix, distortion, rvecs, tvecs = cv.calibrateCamera(obj_points, img_points, (w, h), None, None)\n",
    "\n",
    "print(\"\\nRMS:\", rms)\n",
    "print(\"camera matrix:\\n\", camera_matrix)\n",
    "print(\"distortion coefficients: \", distortion.ravel())"
   ]
  },
  {
   "cell_type": "code",
   "execution_count": 4,
   "metadata": {},
   "outputs": [
    {
     "name": "stdout",
     "output_type": "stream",
     "text": [
      "[[323.30439544   0.         264.1811044 ]\n",
      " [  0.         323.73762591 213.45702275]\n",
      " [  0.           0.           1.        ]]\n",
      "[[-3.42172094e-01  1.42618962e-01  6.17475602e-05  1.79552857e-04\n",
      "  -3.15633611e-02]]\n"
     ]
    }
   ],
   "source": [
    "# use opencv undistort\n",
    "os.system('rm -rf ' + undistort_dir)\n",
    "os.system('mkdir ' + undistort_dir)\n",
    "\n",
    "print(camera_matrix)\n",
    "print(distortion)\n",
    "\n",
    "images = glob.glob(dataset_dir + '*.jpg')\n",
    "for fn in images if dataset_dir else []:\n",
    "    _path, name, _ext = splitfn(fn)\n",
    "    img_found = os.path.join(dataset_dir, name + '.jpg')\n",
    "    outfile = os.path.join(undistort_dir, name + '.jpg')\n",
    "\n",
    "    img = cv.imread(img_found)\n",
    "    if img is None:\n",
    "        continue\n",
    "\n",
    "    h, w = img.shape[:2]\n",
    "    newcameramtx, roi = cv.getOptimalNewCameraMatrix(camera_matrix, distortion, (w, h), 1, (w, h))\n",
    "    dst = cv.undistort(img, camera_matrix, distortion, None, newcameramtx)\n",
    "\n",
    "    # crop and save the image\n",
    "    x, y, w, h = roi\n",
    "    dst = dst[y:y+h, x:x+w]\n",
    "\n",
    "    cv.imwrite(outfile, dst)"
   ]
  }
 ],
 "metadata": {
  "kernelspec": {
   "display_name": "base",
   "language": "python",
   "name": "python3"
  },
  "language_info": {
   "codemirror_mode": {
    "name": "ipython",
    "version": 3
   },
   "file_extension": ".py",
   "mimetype": "text/x-python",
   "name": "python",
   "nbconvert_exporter": "python",
   "pygments_lexer": "ipython3",
   "version": "3.10.9"
  },
  "orig_nbformat": 4,
  "vscode": {
   "interpreter": {
    "hash": "e7cb1b9ae4d417fedf7f40a8eec98f7cfbd359e096bd857395a915f4609834ce"
   }
  }
 },
 "nbformat": 4,
 "nbformat_minor": 2
}
