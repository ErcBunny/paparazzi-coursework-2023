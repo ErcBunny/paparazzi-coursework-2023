{
 "cells": [
  {
   "cell_type": "code",
   "execution_count": 3,
   "metadata": {},
   "outputs": [],
   "source": [
    "import numpy as np\n",
    "import cv2 as cv\n",
    "import sys\n",
    "import getopt\n",
    "import glob\n",
    "from multiprocessing.dummy import Pool as ThreadPool\n",
    "from common import splitfn\n",
    "import os\n",
    "\n",
    "# global settings\n",
    "square_size = 35.15\n",
    "threads_num = 8\n",
    "subpix_windows_size = (5, 5)\n",
    "term = (cv.TERM_CRITERIA_EPS + cv.TERM_CRITERIA_COUNT, 1000, 1e-6)\n",
    "\n",
    "dataset_dir = './mav_datasets/calibration_frontcam/img/'\n",
    "\n",
    "img_dir_0 = './mav_datasets/calibration_frontcam/img_selected_0/'\n",
    "img_dir_1 = './mav_datasets/calibration_frontcam/img_selected_1/'\n",
    "\n",
    "debug_dir_0 = './mav_datasets/calibration_frontcam/debug_0/'\n",
    "debug_dir_1 = './mav_datasets/calibration_frontcam/debug_1/'\n",
    "\n",
    "undistort_dir_0 = './mav_datasets/calibration_frontcam/undistort_0/'\n",
    "undistort_dir_1 = './mav_datasets/calibration_frontcam/undistort_1/'\n"
   ]
  },
  {
   "cell_type": "code",
   "execution_count": 4,
   "metadata": {},
   "outputs": [],
   "source": [
    "# Arrays to store object points and image points from all the images.\n",
    "pattern_size = (9, 6)\n",
    "\n",
    "obj_points = []\n",
    "img_points = []\n",
    "images = glob.glob(img_dir_0 + '*.jpg')\n",
    "os.system('rm -rf ' + debug_dir_0)\n",
    "os.system('mkdir ' + debug_dir_0)\n",
    "\n",
    "# prepare object points, like (0,0,0), (1,0,0), (2,0,0) ....,(6,5,0) * square_size\n",
    "pattern_points = np.zeros((np.prod(pattern_size), 3), np.float32)\n",
    "pattern_points[:, :2] = np.indices(pattern_size).T.reshape(-1, 2)\n",
    "pattern_points *= square_size\n",
    "\n",
    "# find chessboard function\n",
    "def processImg(fn):\n",
    "    img = cv.imread(fn, cv.IMREAD_GRAYSCALE)\n",
    "    found, corners = cv.findChessboardCorners(img, pattern_size)\n",
    "    if found:\n",
    "        corners_subpix = cv.cornerSubPix(img, corners, subpix_windows_size, (-1, -1), term)\n",
    "\n",
    "        if debug_dir_0:\n",
    "            vis = cv.cvtColor(img, cv.COLOR_GRAY2BGR)\n",
    "            cv.drawChessboardCorners(vis, pattern_size, corners_subpix, found)\n",
    "            _path, name, _ext = splitfn(fn)\n",
    "            outfile = os.path.join(debug_dir_0, name + '.jpg')\n",
    "            cv.imwrite(outfile, vis)\n",
    "\n",
    "        return (corners_subpix.reshape(-1, 2), pattern_points)\n",
    "        \n",
    "    if not found:\n",
    "        return None\n",
    "\n",
    "if threads_num <= 1:\n",
    "    chessboards = [processImg(fn) for fn in images]\n",
    "else:\n",
    "    pool = ThreadPool(threads_num)\n",
    "    chessboards = pool.map(processImg, images)\n",
    "\n",
    "detected = [x for x in chessboards if x is not None]\n",
    "for (corners, pattern_points) in detected:\n",
    "    img_points.append(corners)\n",
    "    obj_points.append(pattern_points)"
   ]
  },
  {
   "cell_type": "code",
   "execution_count": 5,
   "metadata": {},
   "outputs": [],
   "source": [
    "# Arrays to store object points and image points from all the images.\n",
    "pattern_size = (6, 9)\n",
    "\n",
    "obj_points = []\n",
    "img_points = []\n",
    "images = glob.glob(img_dir_1 + '*.jpg')\n",
    "os.system('rm -rf ' + debug_dir_1)\n",
    "os.system('mkdir ' + debug_dir_1)\n",
    "\n",
    "# prepare object points, like (0,0,0), (1,0,0), (2,0,0) ....,(6,5,0) * square_size\n",
    "pattern_points = np.zeros((np.prod(pattern_size), 3), np.float32)\n",
    "pattern_points[:, :2] = np.indices(pattern_size).T.reshape(-1, 2)\n",
    "pattern_points *= square_size\n",
    "\n",
    "# find chessboard function\n",
    "def processImg(fn):\n",
    "    img = cv.imread(fn, cv.IMREAD_GRAYSCALE)\n",
    "    found, corners = cv.findChessboardCorners(img, pattern_size)\n",
    "    if found:\n",
    "        corners_subpix = cv.cornerSubPix(img, corners, subpix_windows_size, (-1, -1), term)\n",
    "\n",
    "        if debug_dir_1:\n",
    "            vis = cv.cvtColor(img, cv.COLOR_GRAY2BGR)\n",
    "            cv.drawChessboardCorners(vis, pattern_size, corners_subpix, found)\n",
    "            _path, name, _ext = splitfn(fn)\n",
    "            outfile = os.path.join(debug_dir_1, name + '.jpg')\n",
    "            cv.imwrite(outfile, vis)\n",
    "\n",
    "        return (corners_subpix.reshape(-1, 2), pattern_points)\n",
    "        \n",
    "    if not found:\n",
    "        return None\n",
    "\n",
    "if threads_num <= 1:\n",
    "    chessboards = [processImg(fn) for fn in images]\n",
    "else:\n",
    "    pool = ThreadPool(threads_num)\n",
    "    chessboards = pool.map(processImg, images)\n",
    "\n",
    "detected = [x for x in chessboards if x is not None]\n",
    "for (corners, pattern_points) in detected:\n",
    "    img_points.append(corners)\n",
    "    obj_points.append(pattern_points)"
   ]
  },
  {
   "cell_type": "code",
   "execution_count": 6,
   "metadata": {},
   "outputs": [
    {
     "name": "stdout",
     "output_type": "stream",
     "text": [
      "calibrating, will take hours if there are too many points\n",
      "\n",
      "RMS: 0.3647045428982986\n",
      "camera matrix:\n",
      " [[322.268871     0.         265.20837468]\n",
      " [  0.         323.35398364 210.86532454]\n",
      " [  0.           0.           1.        ]]\n",
      "distortion coefficients:  [-3.42684145e-01  1.44269542e-01  7.41907658e-04  1.02642242e-04\n",
      " -3.22814428e-02]\n"
     ]
    }
   ],
   "source": [
    "# calculate camera distortion with all available images\n",
    "print(\"calibrating, will take hours if there are too many points\")\n",
    "h, w = cv.imread(images[0], cv.IMREAD_GRAYSCALE).shape[:2]\n",
    "rms, camera_matrix_1, distortion_1, rvecs, tvecs = cv.calibrateCamera(obj_points, img_points, (w, h), None, None)\n",
    "\n",
    "print(\"\\nRMS:\", rms)\n",
    "print(\"camera matrix:\\n\", camera_matrix_1)\n",
    "print(\"distortion coefficients: \", distortion_1.ravel())"
   ]
  },
  {
   "cell_type": "code",
   "execution_count": 7,
   "metadata": {},
   "outputs": [],
   "source": [
    "RMS_0 = 0.28\n",
    "camera_matrix_0 = np.array([\n",
    "    [323.304409,     0.        , 264.18111025],\n",
    "    [  0.      ,   323.7376457 , 213.45697442],\n",
    "    [  0.      ,     0.        ,   1.        ]\n",
    "])\n",
    "distortion_0 = np.array([-3.42172150e-01,  1.42619049e-01,  6.17693970e-05,  1.79552140e-04, -3.15633945e-02])\n"
   ]
  },
  {
   "cell_type": "code",
   "execution_count": 8,
   "metadata": {},
   "outputs": [
    {
     "name": "stdout",
     "output_type": "stream",
     "text": [
      "[[323.304409     0.         264.18111025]\n",
      " [  0.         323.7376457  213.45697442]\n",
      " [  0.           0.           1.        ]]\n",
      "[-3.42172150e-01  1.42619049e-01  6.17693970e-05  1.79552140e-04\n",
      " -3.15633945e-02]\n"
     ]
    }
   ],
   "source": [
    "# use opencv undistort function 0\n",
    "os.system('rm -rf ' + undistort_dir_0)\n",
    "os.system('mkdir ' + undistort_dir_0)\n",
    "\n",
    "print(camera_matrix_0)\n",
    "print(distortion_0)\n",
    "\n",
    "images = glob.glob(dataset_dir + '*.jpg')\n",
    "for fn in images if dataset_dir else []:\n",
    "    _path, name, _ext = splitfn(fn)\n",
    "    img_found = os.path.join(dataset_dir, name + '.jpg')\n",
    "    outfile = os.path.join(undistort_dir_0, name + '.jpg')\n",
    "\n",
    "    img = cv.imread(img_found)\n",
    "    if img is None:\n",
    "        continue\n",
    "\n",
    "    h, w = img.shape[:2]\n",
    "    newcameramtx, roi = cv.getOptimalNewCameraMatrix(camera_matrix_0, distortion_0, (w, h), 1, (w, h))\n",
    "    dst = cv.undistort(img, camera_matrix_0, distortion_0, None, newcameramtx)\n",
    "\n",
    "    # crop and save the image\n",
    "    x, y, w, h = roi\n",
    "    # dst = dst[y:y+h, x:x+w]\n",
    "\n",
    "    cv.imwrite(outfile, dst)"
   ]
  },
  {
   "cell_type": "code",
   "execution_count": 9,
   "metadata": {},
   "outputs": [
    {
     "name": "stdout",
     "output_type": "stream",
     "text": [
      "[[322.268871     0.         265.20837468]\n",
      " [  0.         323.35398364 210.86532454]\n",
      " [  0.           0.           1.        ]]\n",
      "[[-3.42684145e-01  1.44269542e-01  7.41907658e-04  1.02642242e-04\n",
      "  -3.22814428e-02]]\n"
     ]
    }
   ],
   "source": [
    "# use opencv undistort function 0\n",
    "os.system('rm -rf ' + undistort_dir_1)\n",
    "os.system('mkdir ' + undistort_dir_1)\n",
    "\n",
    "print(camera_matrix_1)\n",
    "print(distortion_1)\n",
    "\n",
    "images = glob.glob(dataset_dir + '*.jpg')\n",
    "for fn in images if dataset_dir else []:\n",
    "    _path, name, _ext = splitfn(fn)\n",
    "    img_found = os.path.join(dataset_dir, name + '.jpg')\n",
    "    outfile = os.path.join(undistort_dir_1, name + '.jpg')\n",
    "\n",
    "    img = cv.imread(img_found)\n",
    "    if img is None:\n",
    "        continue\n",
    "\n",
    "    h, w = img.shape[:2]\n",
    "    newcameramtx, roi = cv.getOptimalNewCameraMatrix(camera_matrix_1, distortion_1, (w, h), 1, (w, h))\n",
    "    dst = cv.undistort(img, camera_matrix_1, distortion_1, None, newcameramtx)\n",
    "\n",
    "    # crop and save the image\n",
    "    x, y, w, h = roi\n",
    "    # dst = dst[y:y+h, x:x+w]\n",
    "\n",
    "    cv.imwrite(outfile, dst)"
   ]
  }
 ],
 "metadata": {
  "kernelspec": {
   "display_name": "base",
   "language": "python",
   "name": "python3"
  },
  "language_info": {
   "codemirror_mode": {
    "name": "ipython",
    "version": 3
   },
   "file_extension": ".py",
   "mimetype": "text/x-python",
   "name": "python",
   "nbconvert_exporter": "python",
   "pygments_lexer": "ipython3",
   "version": "3.10.9"
  },
  "orig_nbformat": 4,
  "vscode": {
   "interpreter": {
    "hash": "e7cb1b9ae4d417fedf7f40a8eec98f7cfbd359e096bd857395a915f4609834ce"
   }
  }
 },
 "nbformat": 4,
 "nbformat_minor": 2
}
